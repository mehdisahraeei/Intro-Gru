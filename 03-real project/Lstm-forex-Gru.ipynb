{
 "cells": [
  {
   "cell_type": "markdown",
   "metadata": {
    "id": "4gsu2VOXn02j"
   },
   "source": [
    "# Simple Gru\n",
    "- developer: mehdi sahraei\n",
    "- [link github](https://github.com/mehdisahraeei)"
   ]
  },
  {
   "cell_type": "markdown",
   "metadata": {},
   "source": [
    "### Importing"
   ]
  },
  {
   "cell_type": "code",
   "execution_count": 5,
   "metadata": {
    "id": "M3C4TjYDwDx4"
   },
   "outputs": [],
   "source": [
    "import pandas as pd\n",
    "import matplotlib.pyplot as plt\n",
    "import numpy as np\n",
    "import math\n",
    "import tensorflow as tf\n",
    "from numpy import array\n",
    "from tensorflow.keras.models import Sequential\n",
    "from tensorflow.keras.layers import GRU, Dense, Dropout\n",
    "from sklearn.preprocessing import MinMaxScaler\n",
    "from sklearn.metrics import mean_squared_error"
   ]
  },
  {
   "cell_type": "markdown",
   "metadata": {
    "id": "4hRndIfXpFQ5"
   },
   "source": [
    "### Reading df"
   ]
  },
  {
   "cell_type": "code",
   "execution_count": 6,
   "metadata": {
    "colab": {
     "base_uri": "https://localhost:8080/",
     "height": 238
    },
    "id": "tkKcfgQexMgI",
    "outputId": "49c35a96-12fa-47da-e81b-2713a6c92e0d"
   },
   "outputs": [
    {
     "data": {
      "text/html": [
       "<div>\n",
       "<style scoped>\n",
       "    .dataframe tbody tr th:only-of-type {\n",
       "        vertical-align: middle;\n",
       "    }\n",
       "\n",
       "    .dataframe tbody tr th {\n",
       "        vertical-align: top;\n",
       "    }\n",
       "\n",
       "    .dataframe thead th {\n",
       "        text-align: right;\n",
       "    }\n",
       "</style>\n",
       "<table border=\"1\" class=\"dataframe\">\n",
       "  <thead>\n",
       "    <tr style=\"text-align: right;\">\n",
       "      <th></th>\n",
       "      <th>Open</th>\n",
       "      <th>High</th>\n",
       "      <th>Low</th>\n",
       "      <th>Close</th>\n",
       "      <th>Adj Close</th>\n",
       "      <th>Volume</th>\n",
       "    </tr>\n",
       "    <tr>\n",
       "      <th>Date</th>\n",
       "      <th></th>\n",
       "      <th></th>\n",
       "      <th></th>\n",
       "      <th></th>\n",
       "      <th></th>\n",
       "      <th></th>\n",
       "    </tr>\n",
       "  </thead>\n",
       "  <tbody>\n",
       "    <tr>\n",
       "      <th>2022-01-22</th>\n",
       "      <td>36471.589844</td>\n",
       "      <td>36688.812500</td>\n",
       "      <td>34349.250000</td>\n",
       "      <td>35030.250000</td>\n",
       "      <td>35030.250000</td>\n",
       "      <td>39714385405</td>\n",
       "    </tr>\n",
       "    <tr>\n",
       "      <th>2022-01-23</th>\n",
       "      <td>35047.359375</td>\n",
       "      <td>36433.312500</td>\n",
       "      <td>34784.968750</td>\n",
       "      <td>36276.804688</td>\n",
       "      <td>36276.804688</td>\n",
       "      <td>26017975951</td>\n",
       "    </tr>\n",
       "    <tr>\n",
       "      <th>2022-01-24</th>\n",
       "      <td>36275.734375</td>\n",
       "      <td>37247.519531</td>\n",
       "      <td>33184.058594</td>\n",
       "      <td>36654.328125</td>\n",
       "      <td>36654.328125</td>\n",
       "      <td>41856658597</td>\n",
       "    </tr>\n",
       "    <tr>\n",
       "      <th>2022-01-25</th>\n",
       "      <td>36654.804688</td>\n",
       "      <td>37444.570313</td>\n",
       "      <td>35779.429688</td>\n",
       "      <td>36954.003906</td>\n",
       "      <td>36954.003906</td>\n",
       "      <td>26428189594</td>\n",
       "    </tr>\n",
       "    <tr>\n",
       "      <th>2022-01-26</th>\n",
       "      <td>36950.515625</td>\n",
       "      <td>38825.410156</td>\n",
       "      <td>36374.906250</td>\n",
       "      <td>36852.121094</td>\n",
       "      <td>36852.121094</td>\n",
       "      <td>31324598034</td>\n",
       "    </tr>\n",
       "  </tbody>\n",
       "</table>\n",
       "</div>"
      ],
      "text/plain": [
       "                    Open          High           Low         Close  \\\n",
       "Date                                                                 \n",
       "2022-01-22  36471.589844  36688.812500  34349.250000  35030.250000   \n",
       "2022-01-23  35047.359375  36433.312500  34784.968750  36276.804688   \n",
       "2022-01-24  36275.734375  37247.519531  33184.058594  36654.328125   \n",
       "2022-01-25  36654.804688  37444.570313  35779.429688  36954.003906   \n",
       "2022-01-26  36950.515625  38825.410156  36374.906250  36852.121094   \n",
       "\n",
       "               Adj Close       Volume  \n",
       "Date                                   \n",
       "2022-01-22  35030.250000  39714385405  \n",
       "2022-01-23  36276.804688  26017975951  \n",
       "2022-01-24  36654.328125  41856658597  \n",
       "2022-01-25  36954.003906  26428189594  \n",
       "2022-01-26  36852.121094  31324598034  "
      ]
     },
     "execution_count": 6,
     "metadata": {},
     "output_type": "execute_result"
    }
   ],
   "source": [
    "df = pd.read_csv('BTC-USD.csv', index_col=\"Date\", infer_datetime_format=True, parse_dates=True)\n",
    "df.head(5)"
   ]
  },
  {
   "cell_type": "markdown",
   "metadata": {
    "id": "yXBNX2FHpVti"
   },
   "source": [
    "- dropping"
   ]
  },
  {
   "cell_type": "code",
   "execution_count": 7,
   "metadata": {
    "colab": {
     "base_uri": "https://localhost:8080/",
     "height": 238
    },
    "id": "D4wCPrty_NBZ",
    "outputId": "163d3e6a-dd9f-4d10-cc4e-078f68a7d542"
   },
   "outputs": [
    {
     "data": {
      "text/html": [
       "<div>\n",
       "<style scoped>\n",
       "    .dataframe tbody tr th:only-of-type {\n",
       "        vertical-align: middle;\n",
       "    }\n",
       "\n",
       "    .dataframe tbody tr th {\n",
       "        vertical-align: top;\n",
       "    }\n",
       "\n",
       "    .dataframe thead th {\n",
       "        text-align: right;\n",
       "    }\n",
       "</style>\n",
       "<table border=\"1\" class=\"dataframe\">\n",
       "  <thead>\n",
       "    <tr style=\"text-align: right;\">\n",
       "      <th></th>\n",
       "      <th>Open</th>\n",
       "    </tr>\n",
       "    <tr>\n",
       "      <th>Date</th>\n",
       "      <th></th>\n",
       "    </tr>\n",
       "  </thead>\n",
       "  <tbody>\n",
       "    <tr>\n",
       "      <th>2022-01-22</th>\n",
       "      <td>36471.589844</td>\n",
       "    </tr>\n",
       "    <tr>\n",
       "      <th>2022-01-23</th>\n",
       "      <td>35047.359375</td>\n",
       "    </tr>\n",
       "    <tr>\n",
       "      <th>2022-01-24</th>\n",
       "      <td>36275.734375</td>\n",
       "    </tr>\n",
       "    <tr>\n",
       "      <th>2022-01-25</th>\n",
       "      <td>36654.804688</td>\n",
       "    </tr>\n",
       "    <tr>\n",
       "      <th>2022-01-26</th>\n",
       "      <td>36950.515625</td>\n",
       "    </tr>\n",
       "  </tbody>\n",
       "</table>\n",
       "</div>"
      ],
      "text/plain": [
       "                    Open\n",
       "Date                    \n",
       "2022-01-22  36471.589844\n",
       "2022-01-23  35047.359375\n",
       "2022-01-24  36275.734375\n",
       "2022-01-25  36654.804688\n",
       "2022-01-26  36950.515625"
      ]
     },
     "execution_count": 7,
     "metadata": {},
     "output_type": "execute_result"
    }
   ],
   "source": [
    "df = df.drop(['High','Low','Adj Close','Volume','Close'], axis=1)\n",
    "df.head()"
   ]
  },
  {
   "cell_type": "code",
   "execution_count": 8,
   "metadata": {
    "colab": {
     "base_uri": "https://localhost:8080/"
    },
    "id": "6BEyI0w8ylc3",
    "outputId": "117edd2f-ddd1-4318-c3b2-7ded68c91847"
   },
   "outputs": [
    {
     "data": {
      "text/plain": [
       "array([[36471.589844],\n",
       "       [35047.359375],\n",
       "       [36275.734375],\n",
       "       [36654.804688],\n",
       "       [36950.515625]])"
      ]
     },
     "execution_count": 8,
     "metadata": {},
     "output_type": "execute_result"
    }
   ],
   "source": [
    "dataset = df.values\n",
    "dataset = dataset.astype('float64')\n",
    "dataset[:5]"
   ]
  },
  {
   "cell_type": "markdown",
   "metadata": {
    "id": "_4zKsyTypgcL"
   },
   "source": [
    "### plotting data"
   ]
  },
  {
   "cell_type": "code",
   "execution_count": 9,
   "metadata": {
    "colab": {
     "base_uri": "https://localhost:8080/",
     "height": 265
    },
    "id": "yRU_ga_rzHv5",
    "outputId": "c1fc44d1-21bd-462a-b23a-1fcc9be1c47e"
   },
   "outputs": [
    {
     "data": {
      "image/png": "[encoded data removed]",
      "text/plain": [
       "<Figure size 640x480 with 1 Axes>"
      ]
     },
     "metadata": {},
     "output_type": "display_data"
    }
   ],
   "source": [
    "plt.plot(dataset)\n",
    "plt.show()"
   ]
  },
  {
   "cell_type": "markdown",
   "metadata": {
    "id": "wxcjKZ50pnKA"
   },
   "source": [
    "### normalizing data"
   ]
  },
  {
   "cell_type": "code",
   "execution_count": 10,
   "metadata": {
    "colab": {
     "base_uri": "https://localhost:8080/"
    },
    "id": "yHGcWJCqzy03",
    "outputId": "315ae535-74dd-4571-a23b-17c45ac1aeae"
   },
   "outputs": [
    {
     "name": "stdout",
     "output_type": "stream",
     "text": [
      "[[0.65318238]\n",
      " [0.60821794]\n",
      " [0.64699902]\n",
      " [0.65896666]\n",
      " [0.66830256]] \n",
      "\n",
      "(366, 1)\n"
     ]
    }
   ],
   "source": [
    "scaler = MinMaxScaler(feature_range = (0,1))\n",
    "dataset = scaler.fit_transform(dataset)\n",
    "print(dataset[:5],'\\n')\n",
    "print(dataset.shape)"
   ]
  },
  {
   "cell_type": "markdown",
   "metadata": {
    "id": "v-odIRJ_p0ub"
   },
   "source": [
    "### Method for making data and timestep"
   ]
  },
  {
   "cell_type": "code",
   "execution_count": 11,
   "metadata": {
    "id": "FTc_w35542AQ"
   },
   "outputs": [],
   "source": [
    "# lookback -> timestep\n",
    "def create_dataset(dataset,look_back):\n",
    "    data_x, data_y = [],[] #data_x is data and data_y is label\n",
    "    for i in range(len(dataset)-look_back-1): #we want if data be beyond len(sequendatasetce), the command will not continue\n",
    "        data_x.append(dataset[i:(i+look_back),0])\n",
    "        data_y.append(dataset[i+look_back,0])\n",
    "    return np.array(data_x) , np.array(data_y)"
   ]
  },
  {
   "cell_type": "markdown",
   "metadata": {
    "id": "IR1wen6crVYY"
   },
   "source": [
    "### split dataset"
   ]
  },
  {
   "cell_type": "code",
   "execution_count": 12,
   "metadata": {
    "colab": {
     "base_uri": "https://localhost:8080/"
    },
    "id": "F2bQwF2m75fB",
    "outputId": "4ad32296-56e9-4a66-ae7f-bcd05b8c6fce"
   },
   "outputs": [
    {
     "name": "stdout",
     "output_type": "stream",
     "text": [
      "(329, 1)\n",
      "(37, 1)\n"
     ]
    }
   ],
   "source": [
    "train_size = int(len(dataset) * 0.90)\n",
    "train , test = dataset[0:train_size,:] , dataset[train_size:len(dataset),:]\n",
    "print(train.shape)\n",
    "print(test.shape)"
   ]
  },
  {
   "cell_type": "code",
   "execution_count": 13,
   "metadata": {
    "colab": {
     "base_uri": "https://localhost:8080/"
    },
    "id": "UXfmcI5JsRjm",
    "outputId": "ba7d9170-543e-4c84-b3ad-37e5ccf6f5ae"
   },
   "outputs": [
    {
     "data": {
      "text/plain": [
       "array([[0.65318238],\n",
       "       [0.60821794],\n",
       "       [0.64699902]])"
      ]
     },
     "execution_count": 13,
     "metadata": {},
     "output_type": "execute_result"
    }
   ],
   "source": [
    "train[:3]"
   ]
  },
  {
   "cell_type": "markdown",
   "metadata": {
    "id": "Zonvsx80w_HW"
   },
   "source": [
    "### Making data train & test x,y"
   ]
  },
  {
   "cell_type": "code",
   "execution_count": 14,
   "metadata": {
    "id": "rfssedbp7stl"
   },
   "outputs": [],
   "source": [
    "n_steps = 5 #timestep or look_up\n",
    "\n",
    "train_x , train_y = create_dataset(train, n_steps)\n",
    "test_x , test_y = create_dataset(test, n_steps)"
   ]
  },
  {
   "cell_type": "code",
   "execution_count": 15,
   "metadata": {
    "colab": {
     "base_uri": "https://localhost:8080/"
    },
    "id": "QYRpaSp4wO0h",
    "outputId": "91ed5e76-23bd-46a5-a1a5-eeb176ee749a"
   },
   "outputs": [
    {
     "name": "stdout",
     "output_type": "stream",
     "text": [
      "(323, 5) (323,)\n",
      "(31, 5) (31,)\n"
     ]
    }
   ],
   "source": [
    "print(train_x.shape , train_y.shape)\n",
    "print(test_x.shape , test_y.shape)"
   ]
  },
  {
   "cell_type": "code",
   "execution_count": 16,
   "metadata": {
    "colab": {
     "base_uri": "https://localhost:8080/"
    },
    "id": "EF_5EXbI9rWH",
    "outputId": "cd5e62d6-c23c-446f-f0f6-953da21cc1d2"
   },
   "outputs": [
    {
     "data": {
      "text/plain": [
       "array([0.66487279, 0.67391999, 0.69451282])"
      ]
     },
     "execution_count": 16,
     "metadata": {},
     "output_type": "execute_result"
    }
   ],
   "source": [
    "train_y[:3]"
   ]
  },
  {
   "cell_type": "code",
   "execution_count": 17,
   "metadata": {
    "colab": {
     "base_uri": "https://localhost:8080/"
    },
    "id": "7eVCvrxwAgyK",
    "outputId": "81fbc25a-5ae6-4e99-a219-1de945c0b0fd"
   },
   "outputs": [
    {
     "name": "stdout",
     "output_type": "stream",
     "text": [
      "[0.0272989  0.03199121 0.03083671 0.02082067 0.03542986] 0.032710125925499434\n",
      "[0.03199121 0.03083671 0.02082067 0.03542986 0.03271013] 0.03306573176845201\n",
      "[0.03083671 0.02082067 0.03542986 0.03271013 0.03306573] 0.032034370033292625\n",
      "[0.02082067 0.03542986 0.03271013 0.03306573 0.03203437] 0.0336296324750503\n",
      "[0.03542986 0.03271013 0.03306573 0.03203437 0.03362963] 0.03346369953860345\n",
      "[0.03271013 0.03306573 0.03203437 0.03362963 0.0334637 ] 0.035895964561643845\n",
      "[0.03306573 0.03203437 0.03362963 0.0334637  0.03589596] 0.029490496457610538\n",
      "[0.03203437 0.03362963 0.0334637  0.03589596 0.0294905 ] 0.024310379356305034\n",
      "[0.03362963 0.0334637  0.03589596 0.0294905  0.02431038] 0.027120448578457468\n",
      "[0.0334637  0.03589596 0.0294905  0.02431038 0.02712045] 0.02593160159110902\n",
      "[0.03589596 0.0294905  0.02431038 0.02712045 0.0259316 ] 0.024171207801618355\n",
      "[0.0294905  0.02431038 0.02712045 0.0259316  0.02417121] 0.02662098487030512\n",
      "[0.02431038 0.02712045 0.0259316  0.02417121 0.02662098] 0.028620627949780986\n",
      "[0.02712045 0.0259316  0.02417121 0.02662098 0.02862063] 0.028347772771205648\n",
      "[0.0259316  0.02417121 0.02662098 0.02862063 0.02834777] 0.03413372086704519\n",
      "[0.02417121 0.02662098 0.02862063 0.02834777 0.03413372] 0.033281302778191135\n",
      "[0.02662098 0.02862063 0.02834777 0.03413372 0.0332813 ] 0.036932320961667375\n",
      "[0.02862063 0.02834777 0.03413372 0.0332813  0.03693232] 0.03699638794752064\n",
      "[0.02834777 0.03413372 0.0332813  0.03693232 0.03699639] 0.04141146230819198\n",
      "[0.03413372 0.0332813  0.03693232 0.03699639 0.04141146] 0.04453563872462479\n",
      "[0.0332813  0.03693232 0.03699639 0.04141146 0.04453564] 0.05253606097920699\n",
      "[0.03693232 0.03699639 0.04141146 0.04453564 0.05253606] 0.07372762850182274\n",
      "[0.03699639 0.04141146 0.04453564 0.05253606 0.07372763] 0.09744734573819819\n",
      "[0.04141146 0.04453564 0.05253606 0.07372763 0.09744735] 0.13033271559450016\n",
      "[0.04453564 0.05253606 0.07372763 0.09744735 0.13033272] 0.16401735075715723\n",
      "[0.05253606 0.07372763 0.09744735 0.13033272 0.16401735] 0.16100990084314243\n",
      "[0.07372763 0.09744735 0.13033272 0.16401735 0.1610099 ] 0.17027945426192476\n",
      "[0.09744735 0.13033272 0.16401735 0.1610099  0.17027945] 0.16981273316383588\n",
      "[0.13033272 0.16401735 0.1610099  0.17027945 0.16981273] 0.1548384407628341\n",
      "[0.16401735 0.1610099  0.17027945 0.16981273 0.15483844] 0.1674235083717957\n",
      "[0.1610099  0.17027945 0.16981273 0.15483844 0.16742351] 0.2176863310993375\n"
     ]
    }
   ],
   "source": [
    "for i in range(len(test_x)):   \n",
    "    print(test_x[i],test_y[i])\n",
    "\n",
    "# print(train_x[:5],'\\n')\n",
    "# print(train_y[:5])"
   ]
  },
  {
   "cell_type": "markdown",
   "metadata": {
    "id": "QgsZEofzx0vG"
   },
   "source": [
    "### Converting data to three-dimensional or three-channel\n",
    "- The input must be three-dimensional or three-channel, that's why we reshape it\n"
   ]
  },
  {
   "cell_type": "code",
   "execution_count": 18,
   "metadata": {
    "colab": {
     "base_uri": "https://localhost:8080/"
    },
    "id": "per3i1mlA7dU",
    "outputId": "bb5a232b-6e8e-4aaf-92bc-6d346b6b85f3"
   },
   "outputs": [
    {
     "name": "stdout",
     "output_type": "stream",
     "text": [
      "(323, 5, 1)\n",
      "(31, 5, 1)\n"
     ]
    }
   ],
   "source": [
    "trainxr = np.reshape(train_x,(train_x.shape[0],train_x.shape[1],1))\n",
    "testxr = np.reshape(test_x,(test_x.shape[0],test_x.shape[1],1))\n",
    "\n",
    "print(trainxr.shape)\n",
    "print(testxr.shape)"
   ]
  },
  {
   "cell_type": "code",
   "execution_count": 19,
   "metadata": {
    "id": "-kOmy3vECB-s"
   },
   "outputs": [],
   "source": [
    "train_x = trainxr\n",
    "test_x = testxr"
   ]
  },
  {
   "cell_type": "markdown",
   "metadata": {
    "id": "DGBd2Sm4yKyS"
   },
   "source": [
    "### training model"
   ]
  },
  {
   "cell_type": "code",
   "execution_count": 43,
   "metadata": {
    "colab": {
     "base_uri": "https://localhost:8080/"
    },
    "id": "hGYRpJqdCg86",
    "outputId": "52278661-9db4-474c-e790-fae27c27269d"
   },
   "outputs": [],
   "source": [
    "n_features = 1 \n",
    "model = Sequential()\n",
    "model.add(GRU(30, activation = 'tanh', input_shape=(n_steps, n_features)))  \n",
    "model.add(Dense(1)) #n-output  \n",
    "model.compile(optimizer='RMSprop',loss='mse',metrics=['accuracy'])   \n",
    "# model.summary()"
   ]
  },
  {
   "cell_type": "code",
   "execution_count": 50,
   "metadata": {
    "colab": {
     "base_uri": "https://localhost:8080/"
    },
    "id": "xi8k3qpQDf9b",
    "outputId": "a43337cf-ab8d-4056-8cc9-7af964dbc503"
   },
   "outputs": [
    {
     "name": "stdout",
     "output_type": "stream",
     "text": [
      "Epoch 1/400\n",
      "162/162 [==============================] - 1s 4ms/step - loss: 0.0027 - accuracy: 0.0062\n",
      "Epoch 2/400\n",
      "162/162 [==============================] - 1s 5ms/step - loss: 0.0027 - accuracy: 0.0062\n",
      "Epoch 3/400\n",
      "162/162 [==============================] - 1s 5ms/step - loss: 0.0027 - accuracy: 0.0062\n",
      "Epoch 4/400\n",
      "162/162 [==============================] - 1s 5ms/step - loss: 0.0027 - accuracy: 0.0062\n",
      "Epoch 5/400\n",
      "162/162 [==============================] - 1s 5ms/step - loss: 0.0027 - accuracy: 0.0062\n",
      "Epoch 6/400\n",
      "162/162 [==============================] - 1s 5ms/step - loss: 0.0027 - accuracy: 0.0062\n",
      "Epoch 7/400\n",
      "162/162 [==============================] - 1s 5ms/step - loss: 0.0027 - accuracy: 0.0062\n",
      "Epoch 8/400\n",
      "162/162 [==============================] - 1s 4ms/step - loss: 0.0027 - accuracy: 0.0062\n",
      "Epoch 9/400\n",
      "162/162 [==============================] - 1s 5ms/step - loss: 0.0027 - accuracy: 0.0062\n",
      "Epoch 10/400\n",
      "162/162 [==============================] - 1s 5ms/step - loss: 0.0027 - accuracy: 0.0062\n",
      "Epoch 11/400\n",
      "162/162 [==============================] - 1s 4ms/step - loss: 0.0027 - accuracy: 0.0062\n",
      "Epoch 12/400\n",
      "162/162 [==============================] - 1s 5ms/step - loss: 0.0027 - accuracy: 0.0062\n",
      "Epoch 13/400\n",
      "162/162 [==============================] - 1s 5ms/step - loss: 0.0028 - accuracy: 0.0062\n",
      "Epoch 14/400\n",
      "162/162 [==============================] - 1s 5ms/step - loss: 0.0028 - accuracy: 0.0062\n",
      "Epoch 15/400\n",
      "162/162 [==============================] - 1s 5ms/step - loss: 0.0028 - accuracy: 0.0062\n",
      "Epoch 16/400\n",
      "162/162 [==============================] - 1s 5ms/step - loss: 0.0029 - accuracy: 0.0062\n",
      "Epoch 17/400\n",
      "162/162 [==============================] - 1s 5ms/step - loss: 0.0029 - accuracy: 0.0062\n",
      "Epoch 18/400\n",
      "162/162 [==============================] - 1s 5ms/step - loss: 0.0029 - accuracy: 0.0062\n",
      "Epoch 19/400\n",
      "162/162 [==============================] - 1s 5ms/step - loss: 0.0030 - accuracy: 0.0062\n",
      "Epoch 20/400\n",
      "162/162 [==============================] - 1s 4ms/step - loss: 0.0030 - accuracy: 0.0062\n",
      "Epoch 21/400\n",
      "162/162 [==============================] - 1s 5ms/step - loss: 0.0030 - accuracy: 0.0062\n",
      "Epoch 22/400\n",
      "162/162 [==============================] - 1s 4ms/step - loss: 0.0031 - accuracy: 0.0062\n",
      "Epoch 23/400\n",
      "162/162 [==============================] - 1s 5ms/step - loss: 0.0031 - accuracy: 0.0062\n",
      "Epoch 24/400\n",
      "162/162 [==============================] - 1s 4ms/step - loss: 0.0032 - accuracy: 0.0062\n",
      "Epoch 25/400\n",
      "162/162 [==============================] - 1s 5ms/step - loss: 0.0032 - accuracy: 0.0062\n",
      "Epoch 26/400\n",
      "162/162 [==============================] - 1s 5ms/step - loss: 0.0033 - accuracy: 0.0062\n",
      "Epoch 27/400\n",
      "162/162 [==============================] - 1s 5ms/step - loss: 0.0033 - accuracy: 0.0062\n",
      "Epoch 28/400\n",
      "162/162 [==============================] - 1s 5ms/step - loss: 0.0033 - accuracy: 0.0062\n",
      "Epoch 29/400\n",
      "162/162 [==============================] - 1s 5ms/step - loss: 0.0034 - accuracy: 0.0062\n",
      "Epoch 30/400\n",
      "162/162 [==============================] - 1s 5ms/step - loss: 0.0034 - accuracy: 0.0062\n",
      "Epoch 31/400\n",
      "162/162 [==============================] - 1s 4ms/step - loss: 0.0034 - accuracy: 0.0062\n",
      "Epoch 32/400\n",
      "162/162 [==============================] - 1s 5ms/step - loss: 0.0035 - accuracy: 0.0062\n",
      "Epoch 33/400\n",
      "162/162 [==============================] - 1s 5ms/step - loss: 0.0035 - accuracy: 0.0062\n",
      "Epoch 34/400\n",
      "162/162 [==============================] - 1s 4ms/step - loss: 0.0036 - accuracy: 0.0062\n",
      "Epoch 35/400\n",
      "162/162 [==============================] - 1s 5ms/step - loss: 0.0036 - accuracy: 0.0062\n",
      "Epoch 36/400\n",
      "162/162 [==============================] - 1s 5ms/step - loss: 0.0036 - accuracy: 0.0062\n",
      "Epoch 37/400\n",
      "162/162 [==============================] - 1s 5ms/step - loss: 0.0037 - accuracy: 0.0062\n",
      "Epoch 38/400\n",
      "162/162 [==============================] - 1s 5ms/step - loss: 0.0037 - accuracy: 0.0062\n",
      "Epoch 39/400\n",
      "162/162 [==============================] - 1s 4ms/step - loss: 0.0037 - accuracy: 0.0062\n",
      "Epoch 40/400\n",
      "162/162 [==============================] - 1s 5ms/step - loss: 0.0037 - accuracy: 0.0062\n",
      "Epoch 41/400\n",
      "162/162 [==============================] - 1s 5ms/step - loss: 0.0038 - accuracy: 0.0062\n",
      "Epoch 42/400\n",
      "162/162 [==============================] - 1s 4ms/step - loss: 0.0038 - accuracy: 0.0062\n",
      "Epoch 43/400\n",
      "162/162 [==============================] - 1s 5ms/step - loss: 0.0038 - accuracy: 0.0062\n",
      "Epoch 44/400\n",
      "162/162 [==============================] - 1s 4ms/step - loss: 0.0037 - accuracy: 0.0062\n",
      "Epoch 45/400\n",
      "162/162 [==============================] - 1s 5ms/step - loss: 0.0037 - accuracy: 0.0062\n",
      "Epoch 46/400\n",
      "162/162 [==============================] - 1s 5ms/step - loss: 0.0037 - accuracy: 0.0062\n",
      "Epoch 47/400\n",
      "162/162 [==============================] - 1s 4ms/step - loss: 0.0036 - accuracy: 0.0062\n",
      "Epoch 48/400\n",
      "162/162 [==============================] - 1s 5ms/step - loss: 0.0035 - accuracy: 0.0062\n",
      "Epoch 49/400\n",
      "162/162 [==============================] - 1s 5ms/step - loss: 0.0034 - accuracy: 0.0062\n",
      "Epoch 50/400\n",
      "162/162 [==============================] - 1s 5ms/step - loss: 0.0033 - accuracy: 0.0062\n",
      "Epoch 51/400\n",
      "162/162 [==============================] - 1s 5ms/step - loss: 0.0033 - accuracy: 0.0062\n",
      "Epoch 52/400\n",
      "162/162 [==============================] - 1s 5ms/step - loss: 0.0032 - accuracy: 0.0062\n",
      "Epoch 53/400\n",
      "162/162 [==============================] - 1s 5ms/step - loss: 0.0031 - accuracy: 0.0062\n",
      "Epoch 54/400\n",
      "162/162 [==============================] - 1s 5ms/step - loss: 0.0031 - accuracy: 0.0062\n",
      "Epoch 55/400\n",
      "162/162 [==============================] - 1s 5ms/step - loss: 0.0030 - accuracy: 0.0062\n",
      "Epoch 56/400\n",
      "162/162 [==============================] - 1s 4ms/step - loss: 0.0030 - accuracy: 0.0062\n",
      "Epoch 57/400\n",
      "162/162 [==============================] - 1s 5ms/step - loss: 0.0029 - accuracy: 0.0062\n",
      "Epoch 58/400\n",
      "162/162 [==============================] - 1s 5ms/step - loss: 0.0029 - accuracy: 0.0062\n",
      "Epoch 59/400\n",
      "162/162 [==============================] - 1s 5ms/step - loss: 0.0029 - accuracy: 0.0062\n",
      "Epoch 60/400\n",
      "162/162 [==============================] - 1s 5ms/step - loss: 0.0029 - accuracy: 0.0062\n",
      "Epoch 61/400\n",
      "162/162 [==============================] - 1s 5ms/step - loss: 0.0029 - accuracy: 0.0062\n",
      "Epoch 62/400\n",
      "162/162 [==============================] - 1s 4ms/step - loss: 0.0030 - accuracy: 0.0062\n",
      "Epoch 63/400\n",
      "162/162 [==============================] - 1s 4ms/step - loss: 0.0030 - accuracy: 0.0062\n",
      "Epoch 64/400\n",
      "162/162 [==============================] - 1s 5ms/step - loss: 0.0030 - accuracy: 0.0062\n",
      "Epoch 65/400\n",
      "162/162 [==============================] - 1s 5ms/step - loss: 0.0030 - accuracy: 0.0062\n",
      "Epoch 66/400\n",
      "162/162 [==============================] - 1s 4ms/step - loss: 0.0030 - accuracy: 0.0062\n",
      "Epoch 67/400\n",
      "162/162 [==============================] - 1s 4ms/step - loss: 0.0030 - accuracy: 0.0062\n",
      "Epoch 68/400\n",
      "162/162 [==============================] - 1s 5ms/step - loss: 0.0030 - accuracy: 0.0062\n",
      "Epoch 69/400\n",
      "162/162 [==============================] - 1s 4ms/step - loss: 0.0030 - accuracy: 0.0062\n",
      "Epoch 70/400\n",
      "162/162 [==============================] - 1s 5ms/step - loss: 0.0029 - accuracy: 0.0062\n",
      "Epoch 71/400\n",
      "162/162 [==============================] - 1s 5ms/step - loss: 0.0029 - accuracy: 0.0062\n",
      "Epoch 72/400\n",
      "162/162 [==============================] - 1s 5ms/step - loss: 0.0029 - accuracy: 0.0062\n",
      "Epoch 73/400\n",
      "162/162 [==============================] - 1s 5ms/step - loss: 0.0029 - accuracy: 0.0062\n",
      "Epoch 74/400\n",
      "162/162 [==============================] - 1s 5ms/step - loss: 0.0029 - accuracy: 0.0062\n",
      "Epoch 75/400\n",
      "162/162 [==============================] - 1s 5ms/step - loss: 0.0028 - accuracy: 0.0062\n",
      "Epoch 76/400\n",
      "162/162 [==============================] - 1s 5ms/step - loss: 0.0028 - accuracy: 0.0062\n",
      "Epoch 77/400\n",
      "162/162 [==============================] - 1s 5ms/step - loss: 0.0028 - accuracy: 0.0062\n",
      "Epoch 78/400\n",
      "162/162 [==============================] - 1s 5ms/step - loss: 0.0027 - accuracy: 0.0062\n",
      "Epoch 79/400\n",
      "162/162 [==============================] - 1s 5ms/step - loss: 0.0027 - accuracy: 0.0062\n",
      "Epoch 80/400\n",
      "162/162 [==============================] - 1s 5ms/step - loss: 0.0027 - accuracy: 0.0062\n",
      "Epoch 81/400\n"
     ]
    },
    {
     "name": "stdout",
     "output_type": "stream",
     "text": [
      "162/162 [==============================] - 1s 5ms/step - loss: 0.0027 - accuracy: 0.0062\n",
      "Epoch 82/400\n",
      "162/162 [==============================] - 1s 4ms/step - loss: 0.0027 - accuracy: 0.0062\n",
      "Epoch 83/400\n",
      "162/162 [==============================] - 1s 5ms/step - loss: 0.0028 - accuracy: 0.0062\n",
      "Epoch 84/400\n",
      "162/162 [==============================] - 1s 5ms/step - loss: 0.0028 - accuracy: 0.0062\n",
      "Epoch 85/400\n",
      "162/162 [==============================] - 1s 5ms/step - loss: 0.0028 - accuracy: 0.0062\n",
      "Epoch 86/400\n",
      "162/162 [==============================] - 1s 5ms/step - loss: 0.0028 - accuracy: 0.0062\n",
      "Epoch 87/400\n",
      "162/162 [==============================] - 1s 5ms/step - loss: 0.0028 - accuracy: 0.0062\n",
      "Epoch 88/400\n",
      "162/162 [==============================] - 1s 5ms/step - loss: 0.0028 - accuracy: 0.0062\n",
      "Epoch 89/400\n",
      "162/162 [==============================] - 1s 5ms/step - loss: 0.0029 - accuracy: 0.0062\n",
      "Epoch 90/400\n",
      "162/162 [==============================] - 1s 5ms/step - loss: 0.0029 - accuracy: 0.0062\n",
      "Epoch 91/400\n",
      "162/162 [==============================] - 1s 5ms/step - loss: 0.0029 - accuracy: 0.0062\n",
      "Epoch 92/400\n",
      "162/162 [==============================] - 1s 5ms/step - loss: 0.0029 - accuracy: 0.0062\n",
      "Epoch 93/400\n",
      "162/162 [==============================] - 1s 5ms/step - loss: 0.0029 - accuracy: 0.0062\n",
      "Epoch 94/400\n",
      "162/162 [==============================] - 1s 5ms/step - loss: 0.0029 - accuracy: 0.0062\n",
      "Epoch 95/400\n",
      "162/162 [==============================] - 1s 5ms/step - loss: 0.0028 - accuracy: 0.0062\n",
      "Epoch 96/400\n",
      "162/162 [==============================] - 1s 5ms/step - loss: 0.0028 - accuracy: 0.0062\n",
      "Epoch 97/400\n",
      "162/162 [==============================] - 1s 5ms/step - loss: 0.0028 - accuracy: 0.0062\n",
      "Epoch 98/400\n",
      "162/162 [==============================] - 1s 5ms/step - loss: 0.0027 - accuracy: 0.0062\n",
      "Epoch 99/400\n",
      "162/162 [==============================] - 1s 4ms/step - loss: 0.0027 - accuracy: 0.0062\n",
      "Epoch 100/400\n",
      "162/162 [==============================] - 1s 5ms/step - loss: 0.0026 - accuracy: 0.0062\n",
      "Epoch 101/400\n",
      "162/162 [==============================] - 1s 5ms/step - loss: 0.0025 - accuracy: 0.0062\n",
      "Epoch 102/400\n",
      "162/162 [==============================] - 1s 5ms/step - loss: 0.0025 - accuracy: 0.0062\n",
      "Epoch 103/400\n",
      "162/162 [==============================] - 1s 5ms/step - loss: 0.0024 - accuracy: 0.0062\n",
      "Epoch 104/400\n",
      "162/162 [==============================] - 1s 5ms/step - loss: 0.0024 - accuracy: 0.0062\n",
      "Epoch 105/400\n",
      "162/162 [==============================] - 1s 5ms/step - loss: 0.0024 - accuracy: 0.0062\n",
      "Epoch 106/400\n",
      "162/162 [==============================] - 1s 4ms/step - loss: 0.0023 - accuracy: 0.0062\n",
      "Epoch 107/400\n",
      "162/162 [==============================] - 1s 5ms/step - loss: 0.0023 - accuracy: 0.0062\n",
      "Epoch 108/400\n",
      "162/162 [==============================] - 1s 5ms/step - loss: 0.0023 - accuracy: 0.0062\n",
      "Epoch 109/400\n",
      "162/162 [==============================] - 1s 5ms/step - loss: 0.0022 - accuracy: 0.0062\n",
      "Epoch 110/400\n",
      "162/162 [==============================] - 1s 4ms/step - loss: 0.0022 - accuracy: 0.0062\n",
      "Epoch 111/400\n",
      "162/162 [==============================] - 1s 5ms/step - loss: 0.0021 - accuracy: 0.0062\n",
      "Epoch 112/400\n",
      "162/162 [==============================] - 1s 4ms/step - loss: 0.0021 - accuracy: 0.0062\n",
      "Epoch 113/400\n",
      "162/162 [==============================] - 1s 5ms/step - loss: 0.0021 - accuracy: 0.0062\n",
      "Epoch 114/400\n",
      "162/162 [==============================] - 1s 4ms/step - loss: 0.0022 - accuracy: 0.0062\n",
      "Epoch 115/400\n",
      "162/162 [==============================] - 1s 5ms/step - loss: 0.0022 - accuracy: 0.0062\n",
      "Epoch 116/400\n",
      "162/162 [==============================] - 1s 4ms/step - loss: 0.0022 - accuracy: 0.0062\n",
      "Epoch 117/400\n",
      "162/162 [==============================] - 1s 5ms/step - loss: 0.0022 - accuracy: 0.0062\n",
      "Epoch 118/400\n",
      "162/162 [==============================] - 1s 5ms/step - loss: 0.0022 - accuracy: 0.0062\n",
      "Epoch 119/400\n",
      "162/162 [==============================] - 1s 5ms/step - loss: 0.0023 - accuracy: 0.0062\n",
      "Epoch 120/400\n",
      "162/162 [==============================] - 1s 5ms/step - loss: 0.0023 - accuracy: 0.0062\n",
      "Epoch 121/400\n",
      "162/162 [==============================] - 1s 5ms/step - loss: 0.0023 - accuracy: 0.0062\n",
      "Epoch 122/400\n",
      "162/162 [==============================] - 1s 5ms/step - loss: 0.0023 - accuracy: 0.0062\n",
      "Epoch 123/400\n",
      "162/162 [==============================] - 1s 5ms/step - loss: 0.0023 - accuracy: 0.0062\n",
      "Epoch 124/400\n",
      "162/162 [==============================] - 1s 5ms/step - loss: 0.0023 - accuracy: 0.0062\n",
      "Epoch 125/400\n",
      "162/162 [==============================] - 1s 5ms/step - loss: 0.0022 - accuracy: 0.0062\n",
      "Epoch 126/400\n",
      "162/162 [==============================] - 1s 5ms/step - loss: 0.0022 - accuracy: 0.0062\n",
      "Epoch 127/400\n",
      "162/162 [==============================] - 1s 5ms/step - loss: 0.0022 - accuracy: 0.0062\n",
      "Epoch 128/400\n",
      "162/162 [==============================] - 1s 4ms/step - loss: 0.0022 - accuracy: 0.0062\n",
      "Epoch 129/400\n",
      "162/162 [==============================] - 1s 5ms/step - loss: 0.0022 - accuracy: 0.0062\n",
      "Epoch 130/400\n",
      "162/162 [==============================] - 1s 5ms/step - loss: 0.0022 - accuracy: 0.0062\n",
      "Epoch 131/400\n",
      "162/162 [==============================] - 1s 5ms/step - loss: 0.0021 - accuracy: 0.0062\n",
      "Epoch 132/400\n",
      "162/162 [==============================] - 1s 4ms/step - loss: 0.0021 - accuracy: 0.0062\n",
      "Epoch 133/400\n",
      "162/162 [==============================] - 1s 5ms/step - loss: 0.0021 - accuracy: 0.0062\n",
      "Epoch 134/400\n",
      "162/162 [==============================] - 1s 5ms/step - loss: 0.0020 - accuracy: 0.0062\n",
      "Epoch 135/400\n",
      "162/162 [==============================] - 1s 4ms/step - loss: 0.0020 - accuracy: 0.0062\n",
      "Epoch 136/400\n",
      "162/162 [==============================] - 1s 5ms/step - loss: 0.0020 - accuracy: 0.0062\n",
      "Epoch 137/400\n",
      "162/162 [==============================] - 1s 4ms/step - loss: 0.0020 - accuracy: 0.0062\n",
      "Epoch 138/400\n",
      "162/162 [==============================] - 1s 5ms/step - loss: 0.0019 - accuracy: 0.0062\n",
      "Epoch 139/400\n",
      "162/162 [==============================] - 1s 5ms/step - loss: 0.0019 - accuracy: 0.0062\n",
      "Epoch 140/400\n",
      "162/162 [==============================] - 1s 5ms/step - loss: 0.0019 - accuracy: 0.0062\n",
      "Epoch 141/400\n",
      "162/162 [==============================] - 1s 5ms/step - loss: 0.0019 - accuracy: 0.0062\n",
      "Epoch 142/400\n",
      "162/162 [==============================] - 1s 5ms/step - loss: 0.0019 - accuracy: 0.0062\n",
      "Epoch 143/400\n",
      "162/162 [==============================] - 1s 5ms/step - loss: 0.0019 - accuracy: 0.0062\n",
      "Epoch 144/400\n",
      "162/162 [==============================] - 1s 5ms/step - loss: 0.0018 - accuracy: 0.0062\n",
      "Epoch 145/400\n",
      "162/162 [==============================] - 1s 5ms/step - loss: 0.0018 - accuracy: 0.0062\n",
      "Epoch 146/400\n",
      "162/162 [==============================] - 1s 5ms/step - loss: 0.0018 - accuracy: 0.0062\n",
      "Epoch 147/400\n",
      "162/162 [==============================] - 1s 5ms/step - loss: 0.0018 - accuracy: 0.0062\n",
      "Epoch 148/400\n",
      "162/162 [==============================] - 1s 5ms/step - loss: 0.0018 - accuracy: 0.0062\n",
      "Epoch 149/400\n",
      "162/162 [==============================] - 1s 5ms/step - loss: 0.0018 - accuracy: 0.0062\n",
      "Epoch 150/400\n",
      "162/162 [==============================] - 1s 5ms/step - loss: 0.0018 - accuracy: 0.0062\n",
      "Epoch 151/400\n",
      "162/162 [==============================] - 1s 5ms/step - loss: 0.0018 - accuracy: 0.0062\n",
      "Epoch 152/400\n",
      "162/162 [==============================] - 1s 4ms/step - loss: 0.0018 - accuracy: 0.0062\n",
      "Epoch 153/400\n",
      "162/162 [==============================] - 1s 5ms/step - loss: 0.0018 - accuracy: 0.0062\n",
      "Epoch 154/400\n",
      "162/162 [==============================] - 1s 5ms/step - loss: 0.0018 - accuracy: 0.0062\n",
      "Epoch 155/400\n",
      "162/162 [==============================] - 1s 5ms/step - loss: 0.0018 - accuracy: 0.0062\n",
      "Epoch 156/400\n",
      "162/162 [==============================] - 1s 4ms/step - loss: 0.0018 - accuracy: 0.0062\n",
      "Epoch 157/400\n",
      "162/162 [==============================] - 1s 5ms/step - loss: 0.0018 - accuracy: 0.0062\n",
      "Epoch 158/400\n",
      "162/162 [==============================] - 1s 5ms/step - loss: 0.0017 - accuracy: 0.0062\n",
      "Epoch 159/400\n",
      "162/162 [==============================] - 1s 5ms/step - loss: 0.0017 - accuracy: 0.0062\n",
      "Epoch 160/400\n"
     ]
    },
    {
     "name": "stdout",
     "output_type": "stream",
     "text": [
      "162/162 [==============================] - 1s 4ms/step - loss: 0.0017 - accuracy: 0.0062\n",
      "Epoch 161/400\n",
      "162/162 [==============================] - 1s 4ms/step - loss: 0.0017 - accuracy: 0.0062\n",
      "Epoch 162/400\n",
      "162/162 [==============================] - 1s 4ms/step - loss: 0.0017 - accuracy: 0.0062\n",
      "Epoch 163/400\n",
      "162/162 [==============================] - 1s 5ms/step - loss: 0.0017 - accuracy: 0.0062\n",
      "Epoch 164/400\n",
      "162/162 [==============================] - 1s 4ms/step - loss: 0.0017 - accuracy: 0.0062\n",
      "Epoch 165/400\n",
      "162/162 [==============================] - 1s 5ms/step - loss: 0.0018 - accuracy: 0.0062\n",
      "Epoch 166/400\n",
      "162/162 [==============================] - 1s 4ms/step - loss: 0.0018 - accuracy: 0.0062\n",
      "Epoch 167/400\n",
      "162/162 [==============================] - 1s 5ms/step - loss: 0.0018 - accuracy: 0.0062\n",
      "Epoch 168/400\n",
      "162/162 [==============================] - 1s 4ms/step - loss: 0.0018 - accuracy: 0.0062\n",
      "Epoch 169/400\n",
      "162/162 [==============================] - 1s 5ms/step - loss: 0.0018 - accuracy: 0.0062\n",
      "Epoch 170/400\n",
      "162/162 [==============================] - 1s 5ms/step - loss: 0.0018 - accuracy: 0.0062\n",
      "Epoch 171/400\n",
      "162/162 [==============================] - 1s 4ms/step - loss: 0.0019 - accuracy: 0.0062\n",
      "Epoch 172/400\n",
      "162/162 [==============================] - 1s 4ms/step - loss: 0.0019 - accuracy: 0.0062\n",
      "Epoch 173/400\n",
      "162/162 [==============================] - 1s 4ms/step - loss: 0.0019 - accuracy: 0.0062\n",
      "Epoch 174/400\n",
      "162/162 [==============================] - 1s 4ms/step - loss: 0.0019 - accuracy: 0.0062\n",
      "Epoch 175/400\n",
      "162/162 [==============================] - 1s 4ms/step - loss: 0.0020 - accuracy: 0.0062\n",
      "Epoch 176/400\n",
      "162/162 [==============================] - 1s 4ms/step - loss: 0.0020 - accuracy: 0.0062\n",
      "Epoch 177/400\n",
      "162/162 [==============================] - 1s 5ms/step - loss: 0.0020 - accuracy: 0.0062\n",
      "Epoch 178/400\n",
      "162/162 [==============================] - 1s 4ms/step - loss: 0.0020 - accuracy: 0.0062\n",
      "Epoch 179/400\n",
      "162/162 [==============================] - 1s 4ms/step - loss: 0.0020 - accuracy: 0.0062\n",
      "Epoch 180/400\n",
      "162/162 [==============================] - 1s 4ms/step - loss: 0.0020 - accuracy: 0.0062\n",
      "Epoch 181/400\n",
      "162/162 [==============================] - 1s 4ms/step - loss: 0.0021 - accuracy: 0.0062\n",
      "Epoch 182/400\n",
      "162/162 [==============================] - 1s 4ms/step - loss: 0.0021 - accuracy: 0.0062\n",
      "Epoch 183/400\n",
      "162/162 [==============================] - 1s 4ms/step - loss: 0.0021 - accuracy: 0.0062\n",
      "Epoch 184/400\n",
      "162/162 [==============================] - 1s 5ms/step - loss: 0.0022 - accuracy: 0.0062\n",
      "Epoch 185/400\n",
      "162/162 [==============================] - 1s 5ms/step - loss: 0.0022 - accuracy: 0.0062\n",
      "Epoch 186/400\n",
      "162/162 [==============================] - 1s 5ms/step - loss: 0.0022 - accuracy: 0.0062\n",
      "Epoch 187/400\n",
      "162/162 [==============================] - 1s 5ms/step - loss: 0.0023 - accuracy: 0.0062\n",
      "Epoch 188/400\n",
      "162/162 [==============================] - 1s 5ms/step - loss: 0.0023 - accuracy: 0.0062\n",
      "Epoch 189/400\n",
      "162/162 [==============================] - 1s 5ms/step - loss: 0.0023 - accuracy: 0.0062\n",
      "Epoch 190/400\n",
      "162/162 [==============================] - 1s 5ms/step - loss: 0.0023 - accuracy: 0.0062\n",
      "Epoch 191/400\n",
      "162/162 [==============================] - 1s 5ms/step - loss: 0.0024 - accuracy: 0.0062\n",
      "Epoch 192/400\n",
      "162/162 [==============================] - 1s 5ms/step - loss: 0.0024 - accuracy: 0.0062\n",
      "Epoch 193/400\n",
      "162/162 [==============================] - 1s 5ms/step - loss: 0.0024 - accuracy: 0.0062\n",
      "Epoch 194/400\n",
      "162/162 [==============================] - 1s 5ms/step - loss: 0.0025 - accuracy: 0.0062\n",
      "Epoch 195/400\n",
      "162/162 [==============================] - 1s 5ms/step - loss: 0.0025 - accuracy: 0.0062\n",
      "Epoch 196/400\n",
      "162/162 [==============================] - 1s 5ms/step - loss: 0.0026 - accuracy: 0.0062\n",
      "Epoch 197/400\n",
      "162/162 [==============================] - 1s 5ms/step - loss: 0.0026 - accuracy: 0.0062\n",
      "Epoch 198/400\n",
      "162/162 [==============================] - 1s 5ms/step - loss: 0.0027 - accuracy: 0.0062\n",
      "Epoch 199/400\n",
      "162/162 [==============================] - 1s 5ms/step - loss: 0.0027 - accuracy: 0.0062\n",
      "Epoch 200/400\n",
      "162/162 [==============================] - 1s 5ms/step - loss: 0.0027 - accuracy: 0.0062\n",
      "Epoch 201/400\n",
      "162/162 [==============================] - 1s 5ms/step - loss: 0.0027 - accuracy: 0.0062\n",
      "Epoch 202/400\n",
      "162/162 [==============================] - 1s 5ms/step - loss: 0.0027 - accuracy: 0.0062\n",
      "Epoch 203/400\n",
      "162/162 [==============================] - 1s 5ms/step - loss: 0.0027 - accuracy: 0.0062\n",
      "Epoch 204/400\n",
      "162/162 [==============================] - 1s 5ms/step - loss: 0.0027 - accuracy: 0.0062\n",
      "Epoch 205/400\n",
      "162/162 [==============================] - 1s 5ms/step - loss: 0.0027 - accuracy: 0.0062\n",
      "Epoch 206/400\n",
      "162/162 [==============================] - 1s 5ms/step - loss: 0.0027 - accuracy: 0.0062\n",
      "Epoch 207/400\n",
      "162/162 [==============================] - 1s 5ms/step - loss: 0.0026 - accuracy: 0.0062\n",
      "Epoch 208/400\n",
      "162/162 [==============================] - 1s 5ms/step - loss: 0.0026 - accuracy: 0.0062\n",
      "Epoch 209/400\n",
      "162/162 [==============================] - 1s 5ms/step - loss: 0.0026 - accuracy: 0.0062\n",
      "Epoch 210/400\n",
      "162/162 [==============================] - 1s 5ms/step - loss: 0.0025 - accuracy: 0.0062\n",
      "Epoch 211/400\n",
      "162/162 [==============================] - 1s 5ms/step - loss: 0.0025 - accuracy: 0.0062\n",
      "Epoch 212/400\n",
      "162/162 [==============================] - 1s 5ms/step - loss: 0.0025 - accuracy: 0.0062\n",
      "Epoch 213/400\n",
      "162/162 [==============================] - 1s 5ms/step - loss: 0.0025 - accuracy: 0.0062\n",
      "Epoch 214/400\n",
      "162/162 [==============================] - 1s 5ms/step - loss: 0.0025 - accuracy: 0.0062\n",
      "Epoch 215/400\n",
      "162/162 [==============================] - 1s 5ms/step - loss: 0.0025 - accuracy: 0.0062\n",
      "Epoch 216/400\n",
      "162/162 [==============================] - 1s 5ms/step - loss: 0.0024 - accuracy: 0.0062\n",
      "Epoch 217/400\n",
      "162/162 [==============================] - 1s 5ms/step - loss: 0.0024 - accuracy: 0.0062\n",
      "Epoch 218/400\n",
      "162/162 [==============================] - 1s 5ms/step - loss: 0.0024 - accuracy: 0.0062\n",
      "Epoch 219/400\n",
      "162/162 [==============================] - 1s 5ms/step - loss: 0.0024 - accuracy: 0.0062\n",
      "Epoch 220/400\n",
      "162/162 [==============================] - 1s 5ms/step - loss: 0.0024 - accuracy: 0.0062\n",
      "Epoch 221/400\n",
      "162/162 [==============================] - 1s 5ms/step - loss: 0.0024 - accuracy: 0.0062\n",
      "Epoch 222/400\n",
      "162/162 [==============================] - 1s 5ms/step - loss: 0.0024 - accuracy: 0.0062\n",
      "Epoch 223/400\n",
      "162/162 [==============================] - 1s 4ms/step - loss: 0.0024 - accuracy: 0.0062\n",
      "Epoch 224/400\n",
      "162/162 [==============================] - 1s 5ms/step - loss: 0.0024 - accuracy: 0.0062\n",
      "Epoch 225/400\n",
      "162/162 [==============================] - 1s 5ms/step - loss: 0.0024 - accuracy: 0.0062\n",
      "Epoch 226/400\n",
      "162/162 [==============================] - 1s 5ms/step - loss: 0.0024 - accuracy: 0.0062\n",
      "Epoch 227/400\n",
      "162/162 [==============================] - 1s 5ms/step - loss: 0.0024 - accuracy: 0.0062\n",
      "Epoch 228/400\n",
      "162/162 [==============================] - 1s 5ms/step - loss: 0.0024 - accuracy: 0.0062\n",
      "Epoch 229/400\n",
      "162/162 [==============================] - 1s 5ms/step - loss: 0.0024 - accuracy: 0.0062\n",
      "Epoch 230/400\n",
      "162/162 [==============================] - 1s 5ms/step - loss: 0.0024 - accuracy: 0.0062\n",
      "Epoch 231/400\n",
      "162/162 [==============================] - 1s 5ms/step - loss: 0.0024 - accuracy: 0.0062\n",
      "Epoch 232/400\n",
      "162/162 [==============================] - 1s 5ms/step - loss: 0.0024 - accuracy: 0.0062\n",
      "Epoch 233/400\n",
      "162/162 [==============================] - 1s 5ms/step - loss: 0.0024 - accuracy: 0.0062\n",
      "Epoch 234/400\n",
      "162/162 [==============================] - 1s 5ms/step - loss: 0.0023 - accuracy: 0.0062\n",
      "Epoch 235/400\n",
      "162/162 [==============================] - 1s 5ms/step - loss: 0.0023 - accuracy: 0.0062\n",
      "Epoch 236/400\n",
      "162/162 [==============================] - 1s 5ms/step - loss: 0.0023 - accuracy: 0.0062\n",
      "Epoch 237/400\n",
      "162/162 [==============================] - 1s 5ms/step - loss: 0.0022 - accuracy: 0.0062\n",
      "Epoch 238/400\n",
      "162/162 [==============================] - 1s 5ms/step - loss: 0.0022 - accuracy: 0.0062\n",
      "Epoch 239/400\n"
     ]
    },
    {
     "name": "stdout",
     "output_type": "stream",
     "text": [
      "162/162 [==============================] - 1s 4ms/step - loss: 0.0022 - accuracy: 0.0062\n",
      "Epoch 240/400\n",
      "162/162 [==============================] - 1s 5ms/step - loss: 0.0022 - accuracy: 0.0062\n",
      "Epoch 241/400\n",
      "162/162 [==============================] - 1s 4ms/step - loss: 0.0022 - accuracy: 0.0062\n",
      "Epoch 242/400\n",
      "162/162 [==============================] - 1s 4ms/step - loss: 0.0022 - accuracy: 0.0062\n",
      "Epoch 243/400\n",
      "162/162 [==============================] - 1s 5ms/step - loss: 0.0022 - accuracy: 0.0062\n",
      "Epoch 244/400\n",
      "162/162 [==============================] - 1s 5ms/step - loss: 0.0022 - accuracy: 0.0062\n",
      "Epoch 245/400\n",
      "162/162 [==============================] - 1s 5ms/step - loss: 0.0022 - accuracy: 0.0062\n",
      "Epoch 246/400\n",
      "162/162 [==============================] - 1s 5ms/step - loss: 0.0022 - accuracy: 0.0062\n",
      "Epoch 247/400\n",
      "162/162 [==============================] - 1s 5ms/step - loss: 0.0022 - accuracy: 0.0062\n",
      "Epoch 248/400\n",
      "162/162 [==============================] - 1s 5ms/step - loss: 0.0022 - accuracy: 0.0062\n",
      "Epoch 249/400\n",
      "162/162 [==============================] - 1s 5ms/step - loss: 0.0022 - accuracy: 0.0062\n",
      "Epoch 250/400\n",
      "162/162 [==============================] - 1s 5ms/step - loss: 0.0022 - accuracy: 0.0062\n",
      "Epoch 251/400\n",
      "162/162 [==============================] - 1s 5ms/step - loss: 0.0022 - accuracy: 0.0062\n",
      "Epoch 252/400\n",
      "162/162 [==============================] - 1s 5ms/step - loss: 0.0022 - accuracy: 0.0062\n",
      "Epoch 253/400\n",
      "162/162 [==============================] - 1s 5ms/step - loss: 0.0022 - accuracy: 0.0062\n",
      "Epoch 254/400\n",
      "162/162 [==============================] - 1s 5ms/step - loss: 0.0023 - accuracy: 0.0062\n",
      "Epoch 255/400\n",
      "162/162 [==============================] - 1s 5ms/step - loss: 0.0023 - accuracy: 0.0062\n",
      "Epoch 256/400\n",
      "162/162 [==============================] - 1s 5ms/step - loss: 0.0023 - accuracy: 0.0062\n",
      "Epoch 257/400\n",
      "162/162 [==============================] - 1s 5ms/step - loss: 0.0023 - accuracy: 0.0062\n",
      "Epoch 258/400\n",
      "162/162 [==============================] - 1s 5ms/step - loss: 0.0023 - accuracy: 0.0062\n",
      "Epoch 259/400\n",
      "162/162 [==============================] - 1s 5ms/step - loss: 0.0022 - accuracy: 0.0062\n",
      "Epoch 260/400\n",
      "162/162 [==============================] - 1s 5ms/step - loss: 0.0022 - accuracy: 0.0062\n",
      "Epoch 261/400\n",
      "162/162 [==============================] - 1s 5ms/step - loss: 0.0022 - accuracy: 0.0062\n",
      "Epoch 262/400\n",
      "162/162 [==============================] - 1s 5ms/step - loss: 0.0022 - accuracy: 0.0062\n",
      "Epoch 263/400\n",
      "162/162 [==============================] - 1s 5ms/step - loss: 0.0022 - accuracy: 0.0062\n",
      "Epoch 264/400\n",
      "162/162 [==============================] - 1s 5ms/step - loss: 0.0021 - accuracy: 0.0062\n",
      "Epoch 265/400\n",
      "162/162 [==============================] - 1s 5ms/step - loss: 0.0021 - accuracy: 0.0062\n",
      "Epoch 266/400\n",
      "162/162 [==============================] - 1s 5ms/step - loss: 0.0021 - accuracy: 0.0062\n",
      "Epoch 267/400\n",
      "162/162 [==============================] - 1s 5ms/step - loss: 0.0021 - accuracy: 0.0062\n",
      "Epoch 268/400\n",
      "162/162 [==============================] - 1s 5ms/step - loss: 0.0021 - accuracy: 0.0062\n",
      "Epoch 269/400\n",
      "162/162 [==============================] - 1s 5ms/step - loss: 0.0021 - accuracy: 0.0062\n",
      "Epoch 270/400\n",
      "162/162 [==============================] - 1s 5ms/step - loss: 0.0022 - accuracy: 0.0062\n",
      "Epoch 271/400\n",
      "162/162 [==============================] - 1s 5ms/step - loss: 0.0022 - accuracy: 0.0062\n",
      "Epoch 272/400\n",
      "162/162 [==============================] - 1s 5ms/step - loss: 0.0022 - accuracy: 0.0062\n",
      "Epoch 273/400\n",
      "162/162 [==============================] - 1s 5ms/step - loss: 0.0022 - accuracy: 0.0062\n",
      "Epoch 274/400\n",
      "162/162 [==============================] - 1s 5ms/step - loss: 0.0022 - accuracy: 0.0062\n",
      "Epoch 275/400\n",
      "162/162 [==============================] - 1s 5ms/step - loss: 0.0022 - accuracy: 0.0062\n",
      "Epoch 276/400\n",
      "162/162 [==============================] - 1s 5ms/step - loss: 0.0022 - accuracy: 0.0062\n",
      "Epoch 277/400\n",
      "162/162 [==============================] - 1s 5ms/step - loss: 0.0022 - accuracy: 0.0062\n",
      "Epoch 278/400\n",
      "162/162 [==============================] - 1s 5ms/step - loss: 0.0022 - accuracy: 0.0062\n",
      "Epoch 279/400\n",
      "162/162 [==============================] - 1s 5ms/step - loss: 0.0022 - accuracy: 0.0062\n",
      "Epoch 280/400\n",
      "162/162 [==============================] - 1s 5ms/step - loss: 0.0023 - accuracy: 0.0062\n",
      "Epoch 281/400\n",
      "162/162 [==============================] - 1s 5ms/step - loss: 0.0023 - accuracy: 0.0062\n",
      "Epoch 282/400\n",
      "162/162 [==============================] - 1s 5ms/step - loss: 0.0023 - accuracy: 0.0062\n",
      "Epoch 283/400\n",
      "162/162 [==============================] - 1s 5ms/step - loss: 0.0024 - accuracy: 0.0062\n",
      "Epoch 284/400\n",
      "162/162 [==============================] - 1s 5ms/step - loss: 0.0024 - accuracy: 0.0062\n",
      "Epoch 285/400\n",
      "162/162 [==============================] - 1s 5ms/step - loss: 0.0024 - accuracy: 0.0062\n",
      "Epoch 286/400\n",
      "162/162 [==============================] - 1s 5ms/step - loss: 0.0024 - accuracy: 0.0062\n",
      "Epoch 287/400\n",
      "162/162 [==============================] - 1s 5ms/step - loss: 0.0025 - accuracy: 0.0062\n",
      "Epoch 288/400\n",
      "162/162 [==============================] - 1s 5ms/step - loss: 0.0025 - accuracy: 0.0062\n",
      "Epoch 289/400\n",
      "162/162 [==============================] - 1s 5ms/step - loss: 0.0025 - accuracy: 0.0062\n",
      "Epoch 290/400\n",
      "162/162 [==============================] - 1s 4ms/step - loss: 0.0025 - accuracy: 0.0062\n",
      "Epoch 291/400\n",
      "162/162 [==============================] - 1s 5ms/step - loss: 0.0025 - accuracy: 0.0062\n",
      "Epoch 292/400\n",
      "162/162 [==============================] - 1s 5ms/step - loss: 0.0025 - accuracy: 0.0062\n",
      "Epoch 293/400\n",
      "162/162 [==============================] - 1s 5ms/step - loss: 0.0025 - accuracy: 0.0062\n",
      "Epoch 294/400\n",
      "162/162 [==============================] - 1s 5ms/step - loss: 0.0025 - accuracy: 0.0062\n",
      "Epoch 295/400\n",
      "162/162 [==============================] - 1s 5ms/step - loss: 0.0026 - accuracy: 0.0062\n",
      "Epoch 296/400\n",
      "162/162 [==============================] - 1s 5ms/step - loss: 0.0026 - accuracy: 0.0062\n",
      "Epoch 297/400\n",
      "162/162 [==============================] - 1s 5ms/step - loss: 0.0026 - accuracy: 0.0062\n",
      "Epoch 298/400\n",
      "162/162 [==============================] - 1s 4ms/step - loss: 0.0026 - accuracy: 0.0062\n",
      "Epoch 299/400\n",
      "162/162 [==============================] - 1s 5ms/step - loss: 0.0026 - accuracy: 0.0062\n",
      "Epoch 300/400\n",
      "162/162 [==============================] - 1s 5ms/step - loss: 0.0026 - accuracy: 0.0062\n",
      "Epoch 301/400\n",
      "162/162 [==============================] - 1s 5ms/step - loss: 0.0026 - accuracy: 0.0062\n",
      "Epoch 302/400\n",
      "162/162 [==============================] - 1s 5ms/step - loss: 0.0026 - accuracy: 0.0062\n",
      "Epoch 303/400\n",
      "162/162 [==============================] - 1s 5ms/step - loss: 0.0026 - accuracy: 0.0062\n",
      "Epoch 304/400\n",
      "162/162 [==============================] - 1s 5ms/step - loss: 0.0027 - accuracy: 0.0062\n",
      "Epoch 305/400\n",
      "162/162 [==============================] - 1s 5ms/step - loss: 0.0027 - accuracy: 0.0062\n",
      "Epoch 306/400\n",
      "162/162 [==============================] - 1s 5ms/step - loss: 0.0027 - accuracy: 0.0062\n",
      "Epoch 307/400\n",
      "162/162 [==============================] - 1s 5ms/step - loss: 0.0027 - accuracy: 0.0062\n",
      "Epoch 308/400\n",
      "162/162 [==============================] - 1s 5ms/step - loss: 0.0026 - accuracy: 0.0062\n",
      "Epoch 309/400\n",
      "162/162 [==============================] - 1s 5ms/step - loss: 0.0026 - accuracy: 0.0062\n",
      "Epoch 310/400\n",
      "162/162 [==============================] - 1s 5ms/step - loss: 0.0026 - accuracy: 0.0062\n",
      "Epoch 311/400\n",
      "162/162 [==============================] - 1s 5ms/step - loss: 0.0026 - accuracy: 0.0062\n",
      "Epoch 312/400\n",
      "162/162 [==============================] - 1s 5ms/step - loss: 0.0025 - accuracy: 0.0062\n",
      "Epoch 313/400\n",
      "162/162 [==============================] - 1s 5ms/step - loss: 0.0025 - accuracy: 0.0062\n",
      "Epoch 314/400\n",
      "162/162 [==============================] - 1s 5ms/step - loss: 0.0025 - accuracy: 0.0062\n",
      "Epoch 315/400\n",
      "162/162 [==============================] - 1s 5ms/step - loss: 0.0025 - accuracy: 0.0062\n",
      "Epoch 316/400\n",
      "162/162 [==============================] - 1s 5ms/step - loss: 0.0025 - accuracy: 0.0062\n",
      "Epoch 317/400\n",
      "162/162 [==============================] - 1s 5ms/step - loss: 0.0025 - accuracy: 0.0062\n",
      "Epoch 318/400\n"
     ]
    },
    {
     "name": "stdout",
     "output_type": "stream",
     "text": [
      "162/162 [==============================] - 1s 5ms/step - loss: 0.0025 - accuracy: 0.0062\n",
      "Epoch 319/400\n",
      "162/162 [==============================] - 1s 4ms/step - loss: 0.0024 - accuracy: 0.0062\n",
      "Epoch 320/400\n",
      "162/162 [==============================] - 1s 5ms/step - loss: 0.0024 - accuracy: 0.0062\n",
      "Epoch 321/400\n",
      "162/162 [==============================] - 1s 5ms/step - loss: 0.0024 - accuracy: 0.0062\n",
      "Epoch 322/400\n",
      "162/162 [==============================] - 1s 5ms/step - loss: 0.0024 - accuracy: 0.0062\n",
      "Epoch 323/400\n",
      "162/162 [==============================] - 1s 5ms/step - loss: 0.0024 - accuracy: 0.0062\n",
      "Epoch 324/400\n",
      "162/162 [==============================] - 1s 5ms/step - loss: 0.0024 - accuracy: 0.0062\n",
      "Epoch 325/400\n",
      "162/162 [==============================] - 1s 5ms/step - loss: 0.0024 - accuracy: 0.0062\n",
      "Epoch 326/400\n",
      "162/162 [==============================] - 1s 5ms/step - loss: 0.0024 - accuracy: 0.0062\n",
      "Epoch 327/400\n",
      "162/162 [==============================] - 1s 5ms/step - loss: 0.0024 - accuracy: 0.0062\n",
      "Epoch 328/400\n",
      "162/162 [==============================] - 1s 5ms/step - loss: 0.0024 - accuracy: 0.0062\n",
      "Epoch 329/400\n",
      "162/162 [==============================] - 1s 5ms/step - loss: 0.0024 - accuracy: 0.0062\n",
      "Epoch 330/400\n",
      "162/162 [==============================] - 1s 5ms/step - loss: 0.0024 - accuracy: 0.0062\n",
      "Epoch 331/400\n",
      "162/162 [==============================] - 1s 5ms/step - loss: 0.0024 - accuracy: 0.0062\n",
      "Epoch 332/400\n",
      "162/162 [==============================] - 1s 5ms/step - loss: 0.0024 - accuracy: 0.0062\n",
      "Epoch 333/400\n",
      "162/162 [==============================] - 1s 5ms/step - loss: 0.0024 - accuracy: 0.0062\n",
      "Epoch 334/400\n",
      "162/162 [==============================] - 1s 5ms/step - loss: 0.0024 - accuracy: 0.0062\n",
      "Epoch 335/400\n",
      "162/162 [==============================] - 1s 5ms/step - loss: 0.0023 - accuracy: 0.0062\n",
      "Epoch 336/400\n",
      "162/162 [==============================] - 1s 4ms/step - loss: 0.0023 - accuracy: 0.0062\n",
      "Epoch 337/400\n",
      "162/162 [==============================] - 1s 4ms/step - loss: 0.0023 - accuracy: 0.0062\n",
      "Epoch 338/400\n",
      "162/162 [==============================] - 1s 5ms/step - loss: 0.0023 - accuracy: 0.0062\n",
      "Epoch 339/400\n",
      "162/162 [==============================] - 1s 4ms/step - loss: 0.0022 - accuracy: 0.0062\n",
      "Epoch 340/400\n",
      "162/162 [==============================] - 1s 4ms/step - loss: 0.0022 - accuracy: 0.0062\n",
      "Epoch 341/400\n",
      "162/162 [==============================] - 1s 4ms/step - loss: 0.0022 - accuracy: 0.0062\n",
      "Epoch 342/400\n",
      "162/162 [==============================] - 1s 5ms/step - loss: 0.0022 - accuracy: 0.0062\n",
      "Epoch 343/400\n",
      "162/162 [==============================] - 1s 5ms/step - loss: 0.0022 - accuracy: 0.0062\n",
      "Epoch 344/400\n",
      "162/162 [==============================] - 1s 5ms/step - loss: 0.0022 - accuracy: 0.0062\n",
      "Epoch 345/400\n",
      "162/162 [==============================] - 1s 5ms/step - loss: 0.0021 - accuracy: 0.0062\n",
      "Epoch 346/400\n",
      "162/162 [==============================] - 1s 5ms/step - loss: 0.0021 - accuracy: 0.0062\n",
      "Epoch 347/400\n",
      "162/162 [==============================] - 1s 4ms/step - loss: 0.0021 - accuracy: 0.0062\n",
      "Epoch 348/400\n",
      "162/162 [==============================] - 1s 4ms/step - loss: 0.0021 - accuracy: 0.0062\n",
      "Epoch 349/400\n",
      "162/162 [==============================] - 1s 5ms/step - loss: 0.0021 - accuracy: 0.0062\n",
      "Epoch 350/400\n",
      "162/162 [==============================] - 1s 4ms/step - loss: 0.0021 - accuracy: 0.0062\n",
      "Epoch 351/400\n",
      "162/162 [==============================] - 1s 5ms/step - loss: 0.0021 - accuracy: 0.0062\n",
      "Epoch 352/400\n",
      "162/162 [==============================] - 1s 5ms/step - loss: 0.0021 - accuracy: 0.0062\n",
      "Epoch 353/400\n",
      "162/162 [==============================] - 1s 4ms/step - loss: 0.0021 - accuracy: 0.0062\n",
      "Epoch 354/400\n",
      "162/162 [==============================] - 1s 5ms/step - loss: 0.0021 - accuracy: 0.0062\n",
      "Epoch 355/400\n",
      "162/162 [==============================] - 1s 5ms/step - loss: 0.0021 - accuracy: 0.0062\n",
      "Epoch 356/400\n",
      "162/162 [==============================] - 1s 5ms/step - loss: 0.0021 - accuracy: 0.0062\n",
      "Epoch 357/400\n",
      "162/162 [==============================] - 1s 5ms/step - loss: 0.0021 - accuracy: 0.0062\n",
      "Epoch 358/400\n",
      "162/162 [==============================] - 1s 5ms/step - loss: 0.0021 - accuracy: 0.0062\n",
      "Epoch 359/400\n",
      "162/162 [==============================] - 1s 5ms/step - loss: 0.0021 - accuracy: 0.0062\n",
      "Epoch 360/400\n",
      "162/162 [==============================] - 1s 5ms/step - loss: 0.0021 - accuracy: 0.0062\n",
      "Epoch 361/400\n",
      "162/162 [==============================] - 1s 5ms/step - loss: 0.0021 - accuracy: 0.0062\n",
      "Epoch 362/400\n",
      "162/162 [==============================] - 1s 5ms/step - loss: 0.0021 - accuracy: 0.0062\n",
      "Epoch 363/400\n",
      "162/162 [==============================] - 1s 5ms/step - loss: 0.0021 - accuracy: 0.0062\n",
      "Epoch 364/400\n",
      "162/162 [==============================] - 1s 5ms/step - loss: 0.0022 - accuracy: 0.0062\n",
      "Epoch 365/400\n",
      "162/162 [==============================] - 1s 5ms/step - loss: 0.0022 - accuracy: 0.0062\n",
      "Epoch 366/400\n",
      "162/162 [==============================] - 1s 4ms/step - loss: 0.0023 - accuracy: 0.0062\n",
      "Epoch 367/400\n",
      "162/162 [==============================] - 1s 4ms/step - loss: 0.0023 - accuracy: 0.0062\n",
      "Epoch 368/400\n",
      "162/162 [==============================] - 1s 5ms/step - loss: 0.0023 - accuracy: 0.0062\n",
      "Epoch 369/400\n",
      "162/162 [==============================] - 1s 4ms/step - loss: 0.0024 - accuracy: 0.0062\n",
      "Epoch 370/400\n",
      "162/162 [==============================] - 1s 5ms/step - loss: 0.0024 - accuracy: 0.0062\n",
      "Epoch 371/400\n",
      "162/162 [==============================] - 1s 5ms/step - loss: 0.0024 - accuracy: 0.0062\n",
      "Epoch 372/400\n",
      "162/162 [==============================] - 1s 5ms/step - loss: 0.0024 - accuracy: 0.0062\n",
      "Epoch 373/400\n",
      "162/162 [==============================] - 1s 5ms/step - loss: 0.0024 - accuracy: 0.0062\n",
      "Epoch 374/400\n",
      "162/162 [==============================] - 1s 5ms/step - loss: 0.0024 - accuracy: 0.0062\n",
      "Epoch 375/400\n",
      "162/162 [==============================] - 1s 5ms/step - loss: 0.0023 - accuracy: 0.0062\n",
      "Epoch 376/400\n",
      "162/162 [==============================] - 1s 5ms/step - loss: 0.0023 - accuracy: 0.0062\n",
      "Epoch 377/400\n",
      "162/162 [==============================] - 1s 5ms/step - loss: 0.0023 - accuracy: 0.0062\n",
      "Epoch 378/400\n",
      "162/162 [==============================] - 1s 5ms/step - loss: 0.0022 - accuracy: 0.0062\n",
      "Epoch 379/400\n",
      "162/162 [==============================] - 1s 5ms/step - loss: 0.0022 - accuracy: 0.0062\n",
      "Epoch 380/400\n",
      "162/162 [==============================] - 1s 5ms/step - loss: 0.0022 - accuracy: 0.0062\n",
      "Epoch 381/400\n",
      "162/162 [==============================] - 1s 5ms/step - loss: 0.0022 - accuracy: 0.0062\n",
      "Epoch 382/400\n",
      "162/162 [==============================] - 1s 5ms/step - loss: 0.0022 - accuracy: 0.0062\n",
      "Epoch 383/400\n",
      "162/162 [==============================] - 1s 5ms/step - loss: 0.0022 - accuracy: 0.0062\n",
      "Epoch 384/400\n",
      "162/162 [==============================] - 1s 5ms/step - loss: 0.0022 - accuracy: 0.0062\n",
      "Epoch 385/400\n",
      "162/162 [==============================] - 1s 5ms/step - loss: 0.0022 - accuracy: 0.0062\n",
      "Epoch 386/400\n",
      "162/162 [==============================] - 1s 5ms/step - loss: 0.0022 - accuracy: 0.0062\n",
      "Epoch 387/400\n",
      "162/162 [==============================] - 1s 5ms/step - loss: 0.0022 - accuracy: 0.0062\n",
      "Epoch 388/400\n",
      "162/162 [==============================] - 1s 5ms/step - loss: 0.0022 - accuracy: 0.0062\n",
      "Epoch 389/400\n",
      "162/162 [==============================] - 1s 5ms/step - loss: 0.0022 - accuracy: 0.0062\n",
      "Epoch 390/400\n",
      "162/162 [==============================] - 1s 5ms/step - loss: 0.0022 - accuracy: 0.0062\n",
      "Epoch 391/400\n",
      "162/162 [==============================] - 1s 5ms/step - loss: 0.0022 - accuracy: 0.0062\n",
      "Epoch 392/400\n",
      "162/162 [==============================] - 1s 5ms/step - loss: 0.0022 - accuracy: 0.0062\n",
      "Epoch 393/400\n",
      "162/162 [==============================] - 1s 5ms/step - loss: 0.0022 - accuracy: 0.0062\n",
      "Epoch 394/400\n",
      "162/162 [==============================] - 1s 5ms/step - loss: 0.0022 - accuracy: 0.0062\n",
      "Epoch 395/400\n",
      "162/162 [==============================] - 1s 5ms/step - loss: 0.0021 - accuracy: 0.0062\n",
      "Epoch 396/400\n",
      "162/162 [==============================] - 1s 5ms/step - loss: 0.0021 - accuracy: 0.0062\n",
      "Epoch 397/400\n"
     ]
    },
    {
     "name": "stdout",
     "output_type": "stream",
     "text": [
      "162/162 [==============================] - 1s 5ms/step - loss: 0.0021 - accuracy: 0.0062\n",
      "Epoch 398/400\n",
      "162/162 [==============================] - 1s 5ms/step - loss: 0.0021 - accuracy: 0.0062\n",
      "Epoch 399/400\n",
      "162/162 [==============================] - 1s 5ms/step - loss: 0.0020 - accuracy: 0.0062\n",
      "Epoch 400/400\n",
      "162/162 [==============================] - 1s 5ms/step - loss: 0.0020 - accuracy: 0.0062\n"
     ]
    },
    {
     "data": {
      "text/plain": [
       "<keras.callbacks.History at 0x7f2c30fb2460>"
      ]
     },
     "execution_count": 50,
     "metadata": {},
     "output_type": "execute_result"
    }
   ],
   "source": [
    "#verbose is the choice that how you want to see the output of your Nural Network while it's training. If you set verbose = 0, It will show nothing\n",
    "model.fit(train_x, train_y, epochs=400, shuffle=False, batch_size=2)"
   ]
  },
  {
   "cell_type": "markdown",
   "metadata": {
    "id": "qAHlVhouysLD"
   },
   "source": [
    "### saving model"
   ]
  },
  {
   "cell_type": "code",
   "execution_count": 25,
   "metadata": {
    "id": "UfTT1orjzPG-"
   },
   "outputs": [],
   "source": [
    "model.save('/content/drive/MyDrive/savedata')"
   ]
  },
  {
   "cell_type": "code",
   "execution_count": 26,
   "metadata": {
    "colab": {
     "base_uri": "https://localhost:8080/"
    },
    "id": "i8qVa0eIz18z",
    "outputId": "fa169231-15a2-440d-9497-7dd1c1cb99c4"
   },
   "outputs": [
    {
     "name": "stderr",
     "output_type": "stream",
     "text": [
      "WARNING:tensorflow:Layer lstm will not use cuDNN kernels since it doesn't meet the criteria. It will use a generic GPU kernel as fallback when running on GPU.\n"
     ]
    }
   ],
   "source": [
    "# loading model\n",
    "new_model = tf.keras.models.load_model('/content/drive/MyDrive/savedata')"
   ]
  },
  {
   "cell_type": "markdown",
   "metadata": {
    "id": "elZwPlOFy7qB"
   },
   "source": [
    "### Testing model"
   ]
  },
  {
   "cell_type": "code",
   "execution_count": 52,
   "metadata": {
    "colab": {
     "base_uri": "https://localhost:8080/"
    },
    "id": "2KnPZeVpFMv3",
    "outputId": "26203c0b-b10b-47b6-8777-02bbb2a298d3"
   },
   "outputs": [
    {
     "name": "stdout",
     "output_type": "stream",
     "text": [
      "11/11 [==============================] - 0s 3ms/step\n",
      "1/1 [==============================] - 0s 24ms/step\n",
      "predicted y(train): [0.36116022 0.35562187 0.36611307 0.3770253  0.3803614 ]\n",
      "real y(train): [0.66487279 0.67391999 0.69451282 0.70623209 0.69891907]\n"
     ]
    }
   ],
   "source": [
    "predict_train = model.predict(train_x)\n",
    "predict_test = model.predict(test_x)\n",
    "print('predicted y(train):', np.reshape(predict_train[:5],-1))\n",
    "print('real y(train):', train_y[:5])"
   ]
  },
  {
   "cell_type": "code",
   "execution_count": 53,
   "metadata": {
    "id": "AmOKUDUKFmoB"
   },
   "outputs": [],
   "source": [
    "predict_train = scaler.inverse_transform(predict_train)\n",
    "trainy = scaler.inverse_transform([train_y])\n",
    "\n",
    "predict_test = scaler.inverse_transform(predict_test)\n",
    "testy = scaler.inverse_transform([test_y])"
   ]
  },
  {
   "cell_type": "code",
   "execution_count": 54,
   "metadata": {
    "colab": {
     "base_uri": "https://localhost:8080/"
    },
    "id": "tFKYyVip_UkY",
    "outputId": "fe8b989a-5a09-4483-dde1-b8a9e5a76ec1"
   },
   "outputs": [
    {
     "name": "stdout",
     "output_type": "stream",
     "text": [
      "[[27221.906]\n",
      " [27046.48 ]\n",
      " [27378.785]\n",
      " [27724.426]\n",
      " [27830.094]]\n"
     ]
    }
   ],
   "source": [
    "print(predict_train[:5])"
   ]
  },
  {
   "cell_type": "markdown",
   "metadata": {
    "id": "SUDHtIww2Vgu"
   },
   "source": [
    "### creating df and plotting"
   ]
  },
  {
   "cell_type": "code",
   "execution_count": 57,
   "metadata": {
    "colab": {
     "base_uri": "https://localhost:8080/",
     "height": 206
    },
    "id": "-2qmJY0l1ad0",
    "outputId": "7961c493-d6d8-4b00-aec5-04847d2fab57"
   },
   "outputs": [
    {
     "data": {
      "text/html": [
       "<div>\n",
       "<style scoped>\n",
       "    .dataframe tbody tr th:only-of-type {\n",
       "        vertical-align: middle;\n",
       "    }\n",
       "\n",
       "    .dataframe tbody tr th {\n",
       "        vertical-align: top;\n",
       "    }\n",
       "\n",
       "    .dataframe thead th {\n",
       "        text-align: right;\n",
       "    }\n",
       "</style>\n",
       "<table border=\"1\" class=\"dataframe\">\n",
       "  <thead>\n",
       "    <tr style=\"text-align: right;\">\n",
       "      <th></th>\n",
       "      <th>Predicted</th>\n",
       "      <th>real</th>\n",
       "    </tr>\n",
       "  </thead>\n",
       "  <tbody>\n",
       "    <tr>\n",
       "      <th>0</th>\n",
       "      <td>27221.906250</td>\n",
       "      <td>36841.878906</td>\n",
       "    </tr>\n",
       "    <tr>\n",
       "      <th>1</th>\n",
       "      <td>27046.480469</td>\n",
       "      <td>37128.445313</td>\n",
       "    </tr>\n",
       "    <tr>\n",
       "      <th>2</th>\n",
       "      <td>27378.785156</td>\n",
       "      <td>37780.714844</td>\n",
       "    </tr>\n",
       "    <tr>\n",
       "      <th>3</th>\n",
       "      <td>27724.425781</td>\n",
       "      <td>38151.917969</td>\n",
       "    </tr>\n",
       "    <tr>\n",
       "      <th>4</th>\n",
       "      <td>27830.093750</td>\n",
       "      <td>37920.281250</td>\n",
       "    </tr>\n",
       "  </tbody>\n",
       "</table>\n",
       "</div>"
      ],
      "text/plain": [
       "      Predicted          real\n",
       "0  27221.906250  36841.878906\n",
       "1  27046.480469  37128.445313\n",
       "2  27378.785156  37780.714844\n",
       "3  27724.425781  38151.917969\n",
       "4  27830.093750  37920.281250"
      ]
     },
     "execution_count": 57,
     "metadata": {},
     "output_type": "execute_result"
    }
   ],
   "source": [
    "Answer1 = pd.DataFrame({\n",
    "    \"Predicted\": predict_train.ravel(),\n",
    "    \"real\": trainy.ravel()\n",
    "}) \n",
    "Answer1.head()"
   ]
  },
  {
   "cell_type": "code",
   "execution_count": 58,
   "metadata": {
    "colab": {
     "base_uri": "https://localhost:8080/",
     "height": 336
    },
    "id": "wLqR02U4tCOP",
    "outputId": "fa73e3a8-5e70-42a4-d054-504173cea56a"
   },
   "outputs": [
    {
     "data": {
      "image/png": "[encoded data removed]",
      "text/plain": [
       "<Figure size 1000x500 with 1 Axes>"
      ]
     },
     "metadata": {},
     "output_type": "display_data"
    }
   ],
   "source": [
    "#train\n",
    "Answer1.plot(title=\"outcome\", figsize=(10,5));"
   ]
  },
  {
   "cell_type": "code",
   "execution_count": 126,
   "metadata": {
    "id": "KDMNKdEQF_Ps"
   },
   "outputs": [],
   "source": [
    "# xx2 = test_x.reshape(-1,1)\n",
    "# xx2 = scaler.inverse_transform(xx2)\n",
    "# xx2[:8]"
   ]
  },
  {
   "cell_type": "code",
   "execution_count": 59,
   "metadata": {
    "colab": {
     "base_uri": "https://localhost:8080/",
     "height": 206
    },
    "id": "JIA6wbWdsnKS",
    "outputId": "9993c731-f5df-4f40-ef04-e67bcccb5b2d"
   },
   "outputs": [
    {
     "data": {
      "text/html": [
       "<div>\n",
       "<style scoped>\n",
       "    .dataframe tbody tr th:only-of-type {\n",
       "        vertical-align: middle;\n",
       "    }\n",
       "\n",
       "    .dataframe tbody tr th {\n",
       "        vertical-align: top;\n",
       "    }\n",
       "\n",
       "    .dataframe thead th {\n",
       "        text-align: right;\n",
       "    }\n",
       "</style>\n",
       "<table border=\"1\" class=\"dataframe\">\n",
       "  <thead>\n",
       "    <tr style=\"text-align: right;\">\n",
       "      <th></th>\n",
       "      <th>Predicted</th>\n",
       "      <th>real</th>\n",
       "    </tr>\n",
       "  </thead>\n",
       "  <tbody>\n",
       "    <tr>\n",
       "      <th>0</th>\n",
       "      <td>17349.595703</td>\n",
       "      <td>16818.380859</td>\n",
       "    </tr>\n",
       "    <tr>\n",
       "      <th>1</th>\n",
       "      <td>17103.851562</td>\n",
       "      <td>16829.644531</td>\n",
       "    </tr>\n",
       "    <tr>\n",
       "      <th>2</th>\n",
       "      <td>17150.343750</td>\n",
       "      <td>16796.976563</td>\n",
       "    </tr>\n",
       "    <tr>\n",
       "      <th>3</th>\n",
       "      <td>17254.197266</td>\n",
       "      <td>16847.505859</td>\n",
       "    </tr>\n",
       "    <tr>\n",
       "      <th>4</th>\n",
       "      <td>17176.451172</td>\n",
       "      <td>16842.250000</td>\n",
       "    </tr>\n",
       "  </tbody>\n",
       "</table>\n",
       "</div>"
      ],
      "text/plain": [
       "      Predicted          real\n",
       "0  17349.595703  16818.380859\n",
       "1  17103.851562  16829.644531\n",
       "2  17150.343750  16796.976563\n",
       "3  17254.197266  16847.505859\n",
       "4  17176.451172  16842.250000"
      ]
     },
     "execution_count": 59,
     "metadata": {},
     "output_type": "execute_result"
    }
   ],
   "source": [
    "Answer2 = pd.DataFrame({\n",
    "    \"Predicted\": predict_test.ravel(),\n",
    "    \"real\": testy.ravel()\n",
    "}) \n",
    "Answer2.head()"
   ]
  },
  {
   "cell_type": "code",
   "execution_count": 60,
   "metadata": {
    "colab": {
     "base_uri": "https://localhost:8080/",
     "height": 336
    },
    "id": "sbFmo7e7KXGS",
    "outputId": "9d3ff0e8-2072-471f-99ec-c968072fb89a"
   },
   "outputs": [
    {
     "data": {
      "image/png": "[encoded data removed]",
      "text/plain": [
       "<Figure size 1000x500 with 1 Axes>"
      ]
     },
     "metadata": {},
     "output_type": "display_data"
    }
   ],
   "source": [
    "#test\n",
    "Answer2.plot(title=\"outcome\", figsize=(10,5));"
   ]
  },
  {
   "cell_type": "markdown",
   "metadata": {
    "id": "xuzekfZ4zHJz"
   },
   "source": [
    "### Evaluate the model"
   ]
  },
  {
   "cell_type": "code",
   "execution_count": 61,
   "metadata": {
    "colab": {
     "base_uri": "https://localhost:8080/"
    },
    "id": "Hi1-xIZhxGOt",
    "outputId": "d0d55190-2fa6-45ee-c9d7-7fe4452dc2d9"
   },
   "outputs": [
    {
     "name": "stdout",
     "output_type": "stream",
     "text": [
      "1/1 [==============================] - 0s 491ms/step - loss: 0.0040 - accuracy: 0.0000e+00\n"
     ]
    },
    {
     "data": {
      "text/plain": [
       "[0.003983131144195795, 0.0]"
      ]
     },
     "execution_count": 61,
     "metadata": {},
     "output_type": "execute_result"
    }
   ],
   "source": [
    "model.evaluate(test_x, test_y)"
   ]
  },
  {
   "cell_type": "code",
   "execution_count": 62,
   "metadata": {
    "colab": {
     "base_uri": "https://localhost:8080/"
    },
    "id": "EkPDtFgDJPwf",
    "outputId": "9ab066c3-37d5-4c48-d237-35a93073194e"
   },
   "outputs": [
    {
     "name": "stdout",
     "output_type": "stream",
     "text": [
      "rmse  7946.367689870623\n",
      "rmse  17277.34666236674\n"
     ]
    }
   ],
   "source": [
    "train_score = math.sqrt(mean_squared_error(trainy.reshape(-1),predict_train))\n",
    "print('rmse ', train_score)\n",
    "test_score = math.sqrt(mean_squared_error(test_y.reshape(-1),predict_test))\n",
    "print('rmse ', test_score)"
   ]
  },
  {
   "cell_type": "markdown",
   "metadata": {
    "id": "SZm0jQgkB5sY"
   },
   "source": [
    "### new testing\n",
    "- we must change dim"
   ]
  },
  {
   "cell_type": "code",
   "execution_count": 63,
   "metadata": {
    "colab": {
     "base_uri": "https://localhost:8080/"
    },
    "id": "3IWU9p2RA5Zr",
    "outputId": "0cde1f18-d5cb-4113-a63e-cf7aa0237535"
   },
   "outputs": [
    {
     "data": {
      "text/plain": [
       "((31, 5, 1), (31,))"
      ]
     },
     "execution_count": 63,
     "metadata": {},
     "output_type": "execute_result"
    }
   ],
   "source": [
    "test_x.shape , test_y.shape"
   ]
  },
  {
   "cell_type": "code",
   "execution_count": 64,
   "metadata": {
    "colab": {
     "base_uri": "https://localhost:8080/"
    },
    "id": "HNmLoQrbkoH0",
    "outputId": "02f960c0-4251-4928-dab8-c329d98688e1"
   },
   "outputs": [
    {
     "data": {
      "text/plain": [
       "(1, 5, 1)"
      ]
     },
     "execution_count": 64,
     "metadata": {},
     "output_type": "execute_result"
    }
   ],
   "source": [
    "test_ = array([0.0272989,  0.03199121, 0.03083671, 0.02082067, 0.03542986])\n",
    "test_ = test_.reshape(1,n_steps,n_features)\n",
    "test_.shape"
   ]
  },
  {
   "cell_type": "code",
   "execution_count": 65,
   "metadata": {
    "colab": {
     "base_uri": "https://localhost:8080/"
    },
    "id": "8rixaWcLHfmM",
    "outputId": "124177f7-9c2d-469d-f471-d2f5b7ddd383"
   },
   "outputs": [
    {
     "name": "stdout",
     "output_type": "stream",
     "text": [
      "1/1 [==============================] - 0s 23ms/step\n"
     ]
    },
    {
     "data": {
      "text/plain": [
       "array([[0.04948103]], dtype=float32)"
      ]
     },
     "execution_count": 65,
     "metadata": {},
     "output_type": "execute_result"
    }
   ],
   "source": [
    "y_hat = model.predict(test_)\n",
    "y_hat"
   ]
  },
  {
   "cell_type": "code",
   "execution_count": 66,
   "metadata": {
    "colab": {
     "base_uri": "https://localhost:8080/"
    },
    "id": "SGqmb61mJEuN",
    "outputId": "92ba122b-f152-4b3e-f4c3-caf3c6391bf3"
   },
   "outputs": [
    {
     "data": {
      "text/plain": [
       "array([[17349.592]], dtype=float32)"
      ]
     },
     "execution_count": 66,
     "metadata": {},
     "output_type": "execute_result"
    }
   ],
   "source": [
    "y_hat = scaler.inverse_transform(y_hat)\n",
    "y_hat"
   ]
  }
 ],
 "metadata": {
  "accelerator": "GPU",
  "colab": {
   "provenance": []
  },
  "gpuClass": "standard",
  "kernelspec": {
   "display_name": "Python 3 (ipykernel)",
   "language": "python",
   "name": "python3"
  },
  "language_info": {
   "codemirror_mode": {
    "name": "ipython",
    "version": 3
   },
   "file_extension": ".py",
   "mimetype": "text/x-python",
   "name": "python",
   "nbconvert_exporter": "python",
   "pygments_lexer": "ipython3",
   "version": "3.8.10"
  }
 },
 "nbformat": 4,
 "nbformat_minor": 1
}
